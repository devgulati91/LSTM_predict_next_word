{
  "nbformat": 4,
  "nbformat_minor": 0,
  "metadata": {
    "colab": {
      "provenance": [],
      "gpuType": "T4"
    },
    "kernelspec": {
      "name": "python3",
      "display_name": "Python 3"
    },
    "language_info": {
      "name": "python"
    },
    "accelerator": "GPU"
  },
  "cells": [
    {
      "cell_type": "code",
      "execution_count": 1,
      "metadata": {
        "id": "TWvYO1a0POoD"
      },
      "outputs": [],
      "source": [
        "#import libraries\n",
        "import tensorflow as tf\n",
        "from tensorflow.keras.preprocessing.text import Tokenizer\n",
        "from tensorflow.keras.layers import Embedding, LSTM, Dense\n",
        "from tensorflow.keras.models import Sequential\n",
        "from tensorflow.keras.utils import to_categorical\n",
        "from tensorflow.keras.optimizers import Adam\n",
        "import pickle\n",
        "import numpy as np\n",
        "import os"
      ]
    },
    {
      "cell_type": "code",
      "source": [
        "#upload files\n",
        "from google.colab import files\n",
        "uploaded = files.upload()"
      ],
      "metadata": {
        "colab": {
          "base_uri": "https://localhost:8080/",
          "height": 73
        },
        "id": "wvS4fvGgPjJG",
        "outputId": "ba63f1a2-a8cd-4954-c124-2f2bbbb01eaa"
      },
      "execution_count": 2,
      "outputs": [
        {
          "output_type": "display_data",
          "data": {
            "text/plain": [
              "<IPython.core.display.HTML object>"
            ],
            "text/html": [
              "\n",
              "     <input type=\"file\" id=\"files-ea735b83-7004-457e-ae44-ba30a228958b\" name=\"files[]\" multiple disabled\n",
              "        style=\"border:none\" />\n",
              "     <output id=\"result-ea735b83-7004-457e-ae44-ba30a228958b\">\n",
              "      Upload widget is only available when the cell has been executed in the\n",
              "      current browser session. Please rerun this cell to enable.\n",
              "      </output>\n",
              "      <script>// Copyright 2017 Google LLC\n",
              "//\n",
              "// Licensed under the Apache License, Version 2.0 (the \"License\");\n",
              "// you may not use this file except in compliance with the License.\n",
              "// You may obtain a copy of the License at\n",
              "//\n",
              "//      http://www.apache.org/licenses/LICENSE-2.0\n",
              "//\n",
              "// Unless required by applicable law or agreed to in writing, software\n",
              "// distributed under the License is distributed on an \"AS IS\" BASIS,\n",
              "// WITHOUT WARRANTIES OR CONDITIONS OF ANY KIND, either express or implied.\n",
              "// See the License for the specific language governing permissions and\n",
              "// limitations under the License.\n",
              "\n",
              "/**\n",
              " * @fileoverview Helpers for google.colab Python module.\n",
              " */\n",
              "(function(scope) {\n",
              "function span(text, styleAttributes = {}) {\n",
              "  const element = document.createElement('span');\n",
              "  element.textContent = text;\n",
              "  for (const key of Object.keys(styleAttributes)) {\n",
              "    element.style[key] = styleAttributes[key];\n",
              "  }\n",
              "  return element;\n",
              "}\n",
              "\n",
              "// Max number of bytes which will be uploaded at a time.\n",
              "const MAX_PAYLOAD_SIZE = 100 * 1024;\n",
              "\n",
              "function _uploadFiles(inputId, outputId) {\n",
              "  const steps = uploadFilesStep(inputId, outputId);\n",
              "  const outputElement = document.getElementById(outputId);\n",
              "  // Cache steps on the outputElement to make it available for the next call\n",
              "  // to uploadFilesContinue from Python.\n",
              "  outputElement.steps = steps;\n",
              "\n",
              "  return _uploadFilesContinue(outputId);\n",
              "}\n",
              "\n",
              "// This is roughly an async generator (not supported in the browser yet),\n",
              "// where there are multiple asynchronous steps and the Python side is going\n",
              "// to poll for completion of each step.\n",
              "// This uses a Promise to block the python side on completion of each step,\n",
              "// then passes the result of the previous step as the input to the next step.\n",
              "function _uploadFilesContinue(outputId) {\n",
              "  const outputElement = document.getElementById(outputId);\n",
              "  const steps = outputElement.steps;\n",
              "\n",
              "  const next = steps.next(outputElement.lastPromiseValue);\n",
              "  return Promise.resolve(next.value.promise).then((value) => {\n",
              "    // Cache the last promise value to make it available to the next\n",
              "    // step of the generator.\n",
              "    outputElement.lastPromiseValue = value;\n",
              "    return next.value.response;\n",
              "  });\n",
              "}\n",
              "\n",
              "/**\n",
              " * Generator function which is called between each async step of the upload\n",
              " * process.\n",
              " * @param {string} inputId Element ID of the input file picker element.\n",
              " * @param {string} outputId Element ID of the output display.\n",
              " * @return {!Iterable<!Object>} Iterable of next steps.\n",
              " */\n",
              "function* uploadFilesStep(inputId, outputId) {\n",
              "  const inputElement = document.getElementById(inputId);\n",
              "  inputElement.disabled = false;\n",
              "\n",
              "  const outputElement = document.getElementById(outputId);\n",
              "  outputElement.innerHTML = '';\n",
              "\n",
              "  const pickedPromise = new Promise((resolve) => {\n",
              "    inputElement.addEventListener('change', (e) => {\n",
              "      resolve(e.target.files);\n",
              "    });\n",
              "  });\n",
              "\n",
              "  const cancel = document.createElement('button');\n",
              "  inputElement.parentElement.appendChild(cancel);\n",
              "  cancel.textContent = 'Cancel upload';\n",
              "  const cancelPromise = new Promise((resolve) => {\n",
              "    cancel.onclick = () => {\n",
              "      resolve(null);\n",
              "    };\n",
              "  });\n",
              "\n",
              "  // Wait for the user to pick the files.\n",
              "  const files = yield {\n",
              "    promise: Promise.race([pickedPromise, cancelPromise]),\n",
              "    response: {\n",
              "      action: 'starting',\n",
              "    }\n",
              "  };\n",
              "\n",
              "  cancel.remove();\n",
              "\n",
              "  // Disable the input element since further picks are not allowed.\n",
              "  inputElement.disabled = true;\n",
              "\n",
              "  if (!files) {\n",
              "    return {\n",
              "      response: {\n",
              "        action: 'complete',\n",
              "      }\n",
              "    };\n",
              "  }\n",
              "\n",
              "  for (const file of files) {\n",
              "    const li = document.createElement('li');\n",
              "    li.append(span(file.name, {fontWeight: 'bold'}));\n",
              "    li.append(span(\n",
              "        `(${file.type || 'n/a'}) - ${file.size} bytes, ` +\n",
              "        `last modified: ${\n",
              "            file.lastModifiedDate ? file.lastModifiedDate.toLocaleDateString() :\n",
              "                                    'n/a'} - `));\n",
              "    const percent = span('0% done');\n",
              "    li.appendChild(percent);\n",
              "\n",
              "    outputElement.appendChild(li);\n",
              "\n",
              "    const fileDataPromise = new Promise((resolve) => {\n",
              "      const reader = new FileReader();\n",
              "      reader.onload = (e) => {\n",
              "        resolve(e.target.result);\n",
              "      };\n",
              "      reader.readAsArrayBuffer(file);\n",
              "    });\n",
              "    // Wait for the data to be ready.\n",
              "    let fileData = yield {\n",
              "      promise: fileDataPromise,\n",
              "      response: {\n",
              "        action: 'continue',\n",
              "      }\n",
              "    };\n",
              "\n",
              "    // Use a chunked sending to avoid message size limits. See b/62115660.\n",
              "    let position = 0;\n",
              "    do {\n",
              "      const length = Math.min(fileData.byteLength - position, MAX_PAYLOAD_SIZE);\n",
              "      const chunk = new Uint8Array(fileData, position, length);\n",
              "      position += length;\n",
              "\n",
              "      const base64 = btoa(String.fromCharCode.apply(null, chunk));\n",
              "      yield {\n",
              "        response: {\n",
              "          action: 'append',\n",
              "          file: file.name,\n",
              "          data: base64,\n",
              "        },\n",
              "      };\n",
              "\n",
              "      let percentDone = fileData.byteLength === 0 ?\n",
              "          100 :\n",
              "          Math.round((position / fileData.byteLength) * 100);\n",
              "      percent.textContent = `${percentDone}% done`;\n",
              "\n",
              "    } while (position < fileData.byteLength);\n",
              "  }\n",
              "\n",
              "  // All done.\n",
              "  yield {\n",
              "    response: {\n",
              "      action: 'complete',\n",
              "    }\n",
              "  };\n",
              "}\n",
              "\n",
              "scope.google = scope.google || {};\n",
              "scope.google.colab = scope.google.colab || {};\n",
              "scope.google.colab._files = {\n",
              "  _uploadFiles,\n",
              "  _uploadFilesContinue,\n",
              "};\n",
              "})(self);\n",
              "</script> "
            ]
          },
          "metadata": {}
        },
        {
          "output_type": "stream",
          "name": "stdout",
          "text": [
            "Saving adventures of huckleberry finn by mark twain.txt to adventures of huckleberry finn by mark twain.txt\n"
          ]
        }
      ]
    },
    {
      "cell_type": "code",
      "source": [
        "file = open(\"adventures of huckleberry finn by mark twain.txt\", \"r\", encoding = \"utf8\")\n",
        "\n",
        "# store file in list\n",
        "lines = []\n",
        "for i in file:\n",
        "    lines.append(i)\n",
        "\n",
        "# Convert list to string\n",
        "data = \"\"\n",
        "for i in lines:\n",
        "  data = ' '. join(lines)\n",
        "\n",
        "#replace unnecessary stuff with space\n",
        "data = data.replace('\\n', '').replace('\\r', '').replace('\\ufeff', '').replace('“','').replace('”','').replace(\"'\",'') #new line, carriage return, unicode character --> replace by space\n",
        "\n",
        "#remove unnecessary spaces\n",
        "data = data.split()\n",
        "data = ' '.join(data)\n",
        "data[:500]"
      ],
      "metadata": {
        "colab": {
          "base_uri": "https://localhost:8080/",
          "height": 90
        },
        "id": "iKRiW_ggPjF1",
        "outputId": "b6fac394-3513-41d9-c2e0-d17995fd5ca4"
      },
      "execution_count": 4,
      "outputs": [
        {
          "output_type": "execute_result",
          "data": {
            "text/plain": [
              "'The Project Gutenberg eBook of Adventures of Huckleberry Finn, by Mark Twain (Samuel Clemens) This eBook is for the use of anyone anywhere in the United States and most other parts of the world at no cost and with almost no restrictions whatsoever. You may copy it, give it away or re-use it under the terms of the Project Gutenberg License included with this eBook or online at www.gutenberg.org. If you are not located in the United States, you will have to check the laws of the country where you '"
            ],
            "application/vnd.google.colaboratory.intrinsic+json": {
              "type": "string"
            }
          },
          "metadata": {},
          "execution_count": 4
        }
      ]
    },
    {
      "cell_type": "code",
      "source": [
        "len(data)"
      ],
      "metadata": {
        "colab": {
          "base_uri": "https://localhost:8080/"
        },
        "id": "kbdNrjm8Qwn5",
        "outputId": "66c2225e-77e7-4b81-eaf5-1a66e0a4b733"
      },
      "execution_count": 5,
      "outputs": [
        {
          "output_type": "execute_result",
          "data": {
            "text/plain": [
              "584051"
            ]
          },
          "metadata": {},
          "execution_count": 5
        }
      ]
    },
    {
      "cell_type": "code",
      "source": [
        "#can easily convert text to sequence and vice versa with tokenizer package\n",
        "#creating object and passing preprocessed data\n",
        "tokenizer = Tokenizer()\n",
        "tokenizer.fit_on_texts([data])\n",
        "\n",
        "# saving the tokenizer for predict function\n",
        "pickle.dump(tokenizer, open('token.pkl', 'wb'))\n",
        "\n",
        "sequence_data = tokenizer.texts_to_sequences([data])[0] #does not include punctuation or white space\n",
        "sequence_data[:15]\n"
      ],
      "metadata": {
        "colab": {
          "base_uri": "https://localhost:8080/"
        },
        "id": "mMQyi8Y8PjDr",
        "outputId": "526c26a1-07e5-408b-af3c-6ca8d7b68a74"
      },
      "execution_count": 6,
      "outputs": [
        {
          "output_type": "execute_result",
          "data": {
            "text/plain": [
              "[2, 178, 334, 862, 8, 964, 8, 1093, 481, 39, 863, 1867, 2838, 2839, 60]"
            ]
          },
          "metadata": {},
          "execution_count": 6
        }
      ]
    },
    {
      "cell_type": "code",
      "source": [
        "len(sequence_data)\n",
        "\n"
      ],
      "metadata": {
        "colab": {
          "base_uri": "https://localhost:8080/"
        },
        "id": "w9ghNg4bPjA2",
        "outputId": "f88f24b1-7057-4125-b589-533bee153af5"
      },
      "execution_count": 7,
      "outputs": [
        {
          "output_type": "execute_result",
          "data": {
            "text/plain": [
              "115759"
            ]
          },
          "metadata": {},
          "execution_count": 7
        }
      ]
    },
    {
      "cell_type": "code",
      "source": [
        "#dictionary for mapping\n",
        "vocab_size = len(tokenizer.word_index) + 1  #index 0 reserved for padding so +1\n",
        "print(vocab_size)\n"
      ],
      "metadata": {
        "colab": {
          "base_uri": "https://localhost:8080/"
        },
        "id": "SKAnzKfsPi-H",
        "outputId": "bb730d7b-35e4-4ae3-ad71-65f2c2fe5f6d"
      },
      "execution_count": 8,
      "outputs": [
        {
          "output_type": "stream",
          "name": "stdout",
          "text": [
            "7737\n"
          ]
        }
      ]
    },
    {
      "cell_type": "code",
      "source": [
        "sequences = []\n",
        "#train using 1st 3 words as input and 4th word as output\n",
        "for i in range(3, len(sequence_data)):\n",
        "    words = sequence_data[i-3:i+1]\n",
        "    sequences.append(words)\n",
        "\n",
        "print(\"The Length of sequences are: \", len(sequences))\n",
        "sequences = np.array(sequences)\n",
        "sequences[:10]\n"
      ],
      "metadata": {
        "colab": {
          "base_uri": "https://localhost:8080/"
        },
        "id": "7GZ9kZ5aPi7c",
        "outputId": "9496b57c-a310-48e9-9315-2e0bedb48ae9"
      },
      "execution_count": 9,
      "outputs": [
        {
          "output_type": "stream",
          "name": "stdout",
          "text": [
            "The Length of sequences are:  115756\n"
          ]
        },
        {
          "output_type": "execute_result",
          "data": {
            "text/plain": [
              "array([[   2,  178,  334,  862],\n",
              "       [ 178,  334,  862,    8],\n",
              "       [ 334,  862,    8,  964],\n",
              "       [ 862,    8,  964,    8],\n",
              "       [   8,  964,    8, 1093],\n",
              "       [ 964,    8, 1093,  481],\n",
              "       [   8, 1093,  481,   39],\n",
              "       [1093,  481,   39,  863],\n",
              "       [ 481,   39,  863, 1867],\n",
              "       [  39,  863, 1867, 2838]])"
            ]
          },
          "metadata": {},
          "execution_count": 9
        }
      ]
    },
    {
      "cell_type": "code",
      "source": [
        "#input in X and output in Y\n",
        "X = []\n",
        "y = []\n",
        "\n",
        "for i in sequences:\n",
        "    X.append(i[0:3])\n",
        "    y.append(i[3])\n",
        "\n",
        "X = np.array(X)\n",
        "y = np.array(y)\n"
      ],
      "metadata": {
        "id": "eQzr006RPi4v"
      },
      "execution_count": 13,
      "outputs": []
    },
    {
      "cell_type": "code",
      "source": [
        "print(\"Data: \", X[:10])\n",
        "print(\"Output: \", y[:10])\n"
      ],
      "metadata": {
        "colab": {
          "base_uri": "https://localhost:8080/"
        },
        "id": "rybsjk3UPi2q",
        "outputId": "e17ec31f-fea1-4cb2-c678-f6099c017c9d"
      },
      "execution_count": 14,
      "outputs": [
        {
          "output_type": "stream",
          "name": "stdout",
          "text": [
            "Data:  [[   2  178  334]\n",
            " [ 178  334  862]\n",
            " [ 334  862    8]\n",
            " [ 862    8  964]\n",
            " [   8  964    8]\n",
            " [ 964    8 1093]\n",
            " [   8 1093  481]\n",
            " [1093  481   39]\n",
            " [ 481   39  863]\n",
            " [  39  863 1867]]\n",
            "Output:  [ 862    8  964    8 1093  481   39  863 1867 2838]\n"
          ]
        }
      ]
    },
    {
      "cell_type": "code",
      "source": [
        "#to_categorical function is used to convert integer labels into a one-hot encoded representation.\n",
        "y = to_categorical(y, num_classes=vocab_size)\n",
        "y[:5]"
      ],
      "metadata": {
        "colab": {
          "base_uri": "https://localhost:8080/"
        },
        "id": "VIRGmpECPizs",
        "outputId": "9eb82276-d1cc-42c4-cefc-1baecaec378f"
      },
      "execution_count": 15,
      "outputs": [
        {
          "output_type": "execute_result",
          "data": {
            "text/plain": [
              "array([[0., 0., 0., ..., 0., 0., 0.],\n",
              "       [0., 0., 0., ..., 0., 0., 0.],\n",
              "       [0., 0., 0., ..., 0., 0., 0.],\n",
              "       [0., 0., 0., ..., 0., 0., 0.],\n",
              "       [0., 0., 0., ..., 0., 0., 0.]], dtype=float32)"
            ]
          },
          "metadata": {},
          "execution_count": 15
        }
      ]
    },
    {
      "cell_type": "code",
      "source": [
        "#allows you to build a neural network model layer by layer.\n",
        "model = Sequential()\n",
        "#embedding layer for representing words or tokens as dense vectors of fixed size.vocab_size(no of unique words in your vocabulary),10 (dimensionality of the embedding space),and input_length=3(length of input).\n",
        "model.add(Embedding(vocab_size, 10, input_length=3))\n",
        "model.add(LSTM(1000, return_sequences=True))#return_sequences=True means one more LSTM layer\n",
        "model.add(LSTM(1000))#return final output\n",
        "model.add(Dense(1000, activation=\"relu\"))# Dense layers for learning non-linear relationships in the data.\n",
        "model.add(Dense(vocab_size, activation=\"softmax\"))"
      ],
      "metadata": {
        "id": "mygLHdc4Piw7"
      },
      "execution_count": 16,
      "outputs": []
    },
    {
      "cell_type": "code",
      "source": [
        "model.summary()"
      ],
      "metadata": {
        "colab": {
          "base_uri": "https://localhost:8080/"
        },
        "id": "m9bjQzddPiue",
        "outputId": "a64c818d-abea-4325-c615-cc596341cb6e"
      },
      "execution_count": 17,
      "outputs": [
        {
          "output_type": "stream",
          "name": "stdout",
          "text": [
            "Model: \"sequential\"\n",
            "_________________________________________________________________\n",
            " Layer (type)                Output Shape              Param #   \n",
            "=================================================================\n",
            " embedding (Embedding)       (None, 3, 10)             77370     \n",
            "                                                                 \n",
            " lstm (LSTM)                 (None, 3, 1000)           4044000   \n",
            "                                                                 \n",
            " lstm_1 (LSTM)               (None, 1000)              8004000   \n",
            "                                                                 \n",
            " dense (Dense)               (None, 1000)              1001000   \n",
            "                                                                 \n",
            " dense_1 (Dense)             (None, 7737)              7744737   \n",
            "                                                                 \n",
            "=================================================================\n",
            "Total params: 20,871,107\n",
            "Trainable params: 20,871,107\n",
            "Non-trainable params: 0\n",
            "_________________________________________________________________\n"
          ]
        }
      ]
    },
    {
      "cell_type": "code",
      "source": [
        "from tensorflow import keras\n",
        "from keras.utils.vis_utils import plot_model\n",
        "\n",
        "keras.utils.plot_model(model, to_file='plot.png', show_layer_names=True)\n"
      ],
      "metadata": {
        "colab": {
          "base_uri": "https://localhost:8080/",
          "height": 564
        },
        "id": "UpQBqYr4W2r2",
        "outputId": "7dca93cc-e153-4e20-e963-74e64f0d094d"
      },
      "execution_count": 18,
      "outputs": [
        {
          "output_type": "execute_result",
          "data": {
            "image/png": "[encoded data removed]",
            "text/plain": [
              "<IPython.core.display.Image object>"
            ]
          },
          "metadata": {},
          "execution_count": 18
        }
      ]
    },
    {
      "cell_type": "code",
      "source": [
        "from tensorflow.keras.callbacks import ModelCheckpoint\n",
        "\n",
        "checkpoint = ModelCheckpoint(\"next_words.h5\", monitor='loss', verbose=1, save_best_only=True)\n",
        "model.compile(loss=\"categorical_crossentropy\", optimizer=Adam(learning_rate=0.001))\n",
        "model.fit(X, y, epochs=70, batch_size=64, callbacks=[checkpoint])"
      ],
      "metadata": {
        "colab": {
          "base_uri": "https://localhost:8080/"
        },
        "id": "caA9iURsW2i7",
        "outputId": "2ef45103-b8af-446b-e485-9fa6e2eb1187"
      },
      "execution_count": 19,
      "outputs": [
        {
          "output_type": "stream",
          "name": "stdout",
          "text": [
            "Epoch 1/70\n",
            "1809/1809 [==============================] - ETA: 0s - loss: 6.1804\n",
            "Epoch 1: loss improved from inf to 6.18044, saving model to next_words.h5\n",
            "1809/1809 [==============================] - 44s 19ms/step - loss: 6.1804\n",
            "Epoch 2/70\n",
            "1809/1809 [==============================] - ETA: 0s - loss: 5.6693\n",
            "Epoch 2: loss improved from 6.18044 to 5.66926, saving model to next_words.h5\n",
            "1809/1809 [==============================] - 28s 15ms/step - loss: 5.6693\n",
            "Epoch 3/70\n",
            "1809/1809 [==============================] - ETA: 0s - loss: 5.3679\n",
            "Epoch 3: loss improved from 5.66926 to 5.36790, saving model to next_words.h5\n",
            "1809/1809 [==============================] - 28s 15ms/step - loss: 5.3679\n",
            "Epoch 4/70\n",
            "1806/1809 [============================>.] - ETA: 0s - loss: 5.1169\n",
            "Epoch 4: loss improved from 5.36790 to 5.11700, saving model to next_words.h5\n",
            "1809/1809 [==============================] - 27s 15ms/step - loss: 5.1170\n",
            "Epoch 5/70\n",
            "1809/1809 [==============================] - ETA: 0s - loss: 4.8855\n",
            "Epoch 5: loss improved from 5.11700 to 4.88553, saving model to next_words.h5\n",
            "1809/1809 [==============================] - 27s 15ms/step - loss: 4.8855\n",
            "Epoch 6/70\n",
            "1809/1809 [==============================] - ETA: 0s - loss: 4.6670\n",
            "Epoch 6: loss improved from 4.88553 to 4.66696, saving model to next_words.h5\n",
            "1809/1809 [==============================] - 28s 15ms/step - loss: 4.6670\n",
            "Epoch 7/70\n",
            "1809/1809 [==============================] - ETA: 0s - loss: 4.4492\n",
            "Epoch 7: loss improved from 4.66696 to 4.44924, saving model to next_words.h5\n",
            "1809/1809 [==============================] - 28s 15ms/step - loss: 4.4492\n",
            "Epoch 8/70\n",
            "1808/1809 [============================>.] - ETA: 0s - loss: 4.2269\n",
            "Epoch 8: loss improved from 4.44924 to 4.22688, saving model to next_words.h5\n",
            "1809/1809 [==============================] - 28s 15ms/step - loss: 4.2269\n",
            "Epoch 9/70\n",
            "1809/1809 [==============================] - ETA: 0s - loss: 3.9980\n",
            "Epoch 9: loss improved from 4.22688 to 3.99798, saving model to next_words.h5\n",
            "1809/1809 [==============================] - 28s 15ms/step - loss: 3.9980\n",
            "Epoch 10/70\n",
            "1809/1809 [==============================] - ETA: 0s - loss: 3.7669\n",
            "Epoch 10: loss improved from 3.99798 to 3.76688, saving model to next_words.h5\n",
            "1809/1809 [==============================] - 28s 15ms/step - loss: 3.7669\n",
            "Epoch 11/70\n",
            "1809/1809 [==============================] - ETA: 0s - loss: 3.5361\n",
            "Epoch 11: loss improved from 3.76688 to 3.53607, saving model to next_words.h5\n",
            "1809/1809 [==============================] - 28s 15ms/step - loss: 3.5361\n",
            "Epoch 12/70\n",
            "1809/1809 [==============================] - ETA: 0s - loss: 3.3046\n",
            "Epoch 12: loss improved from 3.53607 to 3.30463, saving model to next_words.h5\n",
            "1809/1809 [==============================] - 28s 15ms/step - loss: 3.3046\n",
            "Epoch 13/70\n",
            "1809/1809 [==============================] - ETA: 0s - loss: 3.0795\n",
            "Epoch 13: loss improved from 3.30463 to 3.07953, saving model to next_words.h5\n",
            "1809/1809 [==============================] - 28s 16ms/step - loss: 3.0795\n",
            "Epoch 14/70\n",
            "1808/1809 [============================>.] - ETA: 0s - loss: 2.8508\n",
            "Epoch 14: loss improved from 3.07953 to 2.85096, saving model to next_words.h5\n",
            "1809/1809 [==============================] - 28s 15ms/step - loss: 2.8510\n",
            "Epoch 15/70\n",
            "1809/1809 [==============================] - ETA: 0s - loss: 2.6265\n",
            "Epoch 15: loss improved from 2.85096 to 2.62654, saving model to next_words.h5\n",
            "1809/1809 [==============================] - 28s 15ms/step - loss: 2.6265\n",
            "Epoch 16/70\n",
            "1809/1809 [==============================] - ETA: 0s - loss: 2.3976\n",
            "Epoch 16: loss improved from 2.62654 to 2.39762, saving model to next_words.h5\n",
            "1809/1809 [==============================] - 28s 15ms/step - loss: 2.3976\n",
            "Epoch 17/70\n",
            "1807/1809 [============================>.] - ETA: 0s - loss: 2.1769\n",
            "Epoch 17: loss improved from 2.39762 to 2.17697, saving model to next_words.h5\n",
            "1809/1809 [==============================] - 28s 15ms/step - loss: 2.1770\n",
            "Epoch 18/70\n",
            "1807/1809 [============================>.] - ETA: 0s - loss: 1.9630\n",
            "Epoch 18: loss improved from 2.17697 to 1.96327, saving model to next_words.h5\n",
            "1809/1809 [==============================] - 28s 15ms/step - loss: 1.9633\n",
            "Epoch 19/70\n",
            "1809/1809 [==============================] - ETA: 0s - loss: 1.7641\n",
            "Epoch 19: loss improved from 1.96327 to 1.76414, saving model to next_words.h5\n",
            "1809/1809 [==============================] - 28s 15ms/step - loss: 1.7641\n",
            "Epoch 20/70\n",
            "1806/1809 [============================>.] - ETA: 0s - loss: 1.5829\n",
            "Epoch 20: loss improved from 1.76414 to 1.58329, saving model to next_words.h5\n",
            "1809/1809 [==============================] - 28s 16ms/step - loss: 1.5833\n",
            "Epoch 21/70\n",
            "1809/1809 [==============================] - ETA: 0s - loss: 1.4218\n",
            "Epoch 21: loss improved from 1.58329 to 1.42183, saving model to next_words.h5\n",
            "1809/1809 [==============================] - 28s 16ms/step - loss: 1.4218\n",
            "Epoch 22/70\n",
            "1806/1809 [============================>.] - ETA: 0s - loss: 1.2920\n",
            "Epoch 22: loss improved from 1.42183 to 1.29220, saving model to next_words.h5\n",
            "1809/1809 [==============================] - 28s 15ms/step - loss: 1.2922\n",
            "Epoch 23/70\n",
            "1807/1809 [============================>.] - ETA: 0s - loss: 1.1693\n",
            "Epoch 23: loss improved from 1.29220 to 1.16958, saving model to next_words.h5\n",
            "1809/1809 [==============================] - 28s 15ms/step - loss: 1.1696\n",
            "Epoch 24/70\n",
            "1809/1809 [==============================] - ETA: 0s - loss: 1.0768\n",
            "Epoch 24: loss improved from 1.16958 to 1.07677, saving model to next_words.h5\n",
            "1809/1809 [==============================] - 28s 16ms/step - loss: 1.0768\n",
            "Epoch 25/70\n",
            "1809/1809 [==============================] - ETA: 0s - loss: 0.9994\n",
            "Epoch 25: loss improved from 1.07677 to 0.99937, saving model to next_words.h5\n",
            "1809/1809 [==============================] - 28s 16ms/step - loss: 0.9994\n",
            "Epoch 26/70\n",
            "1808/1809 [============================>.] - ETA: 0s - loss: 0.9376\n",
            "Epoch 26: loss improved from 0.99937 to 0.93757, saving model to next_words.h5\n",
            "1809/1809 [==============================] - 28s 15ms/step - loss: 0.9376\n",
            "Epoch 27/70\n",
            "1809/1809 [==============================] - ETA: 0s - loss: 0.8850\n",
            "Epoch 27: loss improved from 0.93757 to 0.88500, saving model to next_words.h5\n",
            "1809/1809 [==============================] - 28s 15ms/step - loss: 0.8850\n",
            "Epoch 28/70\n",
            "1807/1809 [============================>.] - ETA: 0s - loss: 0.8460\n",
            "Epoch 28: loss improved from 0.88500 to 0.84627, saving model to next_words.h5\n",
            "1809/1809 [==============================] - 28s 16ms/step - loss: 0.8463\n",
            "Epoch 29/70\n",
            "1807/1809 [============================>.] - ETA: 0s - loss: 0.8080\n",
            "Epoch 29: loss improved from 0.84627 to 0.80826, saving model to next_words.h5\n",
            "1809/1809 [==============================] - 28s 15ms/step - loss: 0.8083\n",
            "Epoch 30/70\n",
            "1808/1809 [============================>.] - ETA: 0s - loss: 0.7806\n",
            "Epoch 30: loss improved from 0.80826 to 0.78063, saving model to next_words.h5\n",
            "1809/1809 [==============================] - 28s 15ms/step - loss: 0.7806\n",
            "Epoch 31/70\n",
            "1807/1809 [============================>.] - ETA: 0s - loss: 0.7525\n",
            "Epoch 31: loss improved from 0.78063 to 0.75257, saving model to next_words.h5\n",
            "1809/1809 [==============================] - 28s 16ms/step - loss: 0.7526\n",
            "Epoch 32/70\n",
            "1808/1809 [============================>.] - ETA: 0s - loss: 0.7308\n",
            "Epoch 32: loss improved from 0.75257 to 0.73079, saving model to next_words.h5\n",
            "1809/1809 [==============================] - 28s 16ms/step - loss: 0.7308\n",
            "Epoch 33/70\n",
            "1809/1809 [==============================] - ETA: 0s - loss: 0.7087\n",
            "Epoch 33: loss improved from 0.73079 to 0.70872, saving model to next_words.h5\n",
            "1809/1809 [==============================] - 28s 16ms/step - loss: 0.7087\n",
            "Epoch 34/70\n",
            "1809/1809 [==============================] - ETA: 0s - loss: 0.6960\n",
            "Epoch 34: loss improved from 0.70872 to 0.69598, saving model to next_words.h5\n",
            "1809/1809 [==============================] - 28s 16ms/step - loss: 0.6960\n",
            "Epoch 35/70\n",
            "1809/1809 [==============================] - ETA: 0s - loss: 0.6768\n",
            "Epoch 35: loss improved from 0.69598 to 0.67685, saving model to next_words.h5\n",
            "1809/1809 [==============================] - 28s 16ms/step - loss: 0.6768\n",
            "Epoch 36/70\n",
            "1809/1809 [==============================] - ETA: 0s - loss: 0.6656\n",
            "Epoch 36: loss improved from 0.67685 to 0.66564, saving model to next_words.h5\n",
            "1809/1809 [==============================] - 29s 16ms/step - loss: 0.6656\n",
            "Epoch 37/70\n",
            "1806/1809 [============================>.] - ETA: 0s - loss: 0.6546\n",
            "Epoch 37: loss improved from 0.66564 to 0.65486, saving model to next_words.h5\n",
            "1809/1809 [==============================] - 28s 15ms/step - loss: 0.6549\n",
            "Epoch 38/70\n",
            "1809/1809 [==============================] - ETA: 0s - loss: 0.6391\n",
            "Epoch 38: loss improved from 0.65486 to 0.63914, saving model to next_words.h5\n",
            "1809/1809 [==============================] - 28s 16ms/step - loss: 0.6391\n",
            "Epoch 39/70\n",
            "1807/1809 [============================>.] - ETA: 0s - loss: 0.6306\n",
            "Epoch 39: loss improved from 0.63914 to 0.63068, saving model to next_words.h5\n",
            "1809/1809 [==============================] - 27s 15ms/step - loss: 0.6307\n",
            "Epoch 40/70\n",
            "1807/1809 [============================>.] - ETA: 0s - loss: 0.6194\n",
            "Epoch 40: loss improved from 0.63068 to 0.61938, saving model to next_words.h5\n",
            "1809/1809 [==============================] - 28s 15ms/step - loss: 0.6194\n",
            "Epoch 41/70\n",
            "1806/1809 [============================>.] - ETA: 0s - loss: 0.6082\n",
            "Epoch 41: loss improved from 0.61938 to 0.60836, saving model to next_words.h5\n",
            "1809/1809 [==============================] - 28s 15ms/step - loss: 0.6084\n",
            "Epoch 42/70\n",
            "1809/1809 [==============================] - ETA: 0s - loss: 0.6037\n",
            "Epoch 42: loss improved from 0.60836 to 0.60370, saving model to next_words.h5\n",
            "1809/1809 [==============================] - 28s 15ms/step - loss: 0.6037\n",
            "Epoch 43/70\n",
            "1806/1809 [============================>.] - ETA: 0s - loss: 0.5960\n",
            "Epoch 43: loss improved from 0.60370 to 0.59608, saving model to next_words.h5\n",
            "1809/1809 [==============================] - 28s 15ms/step - loss: 0.5961\n",
            "Epoch 44/70\n",
            "1809/1809 [==============================] - ETA: 0s - loss: 0.5872\n",
            "Epoch 44: loss improved from 0.59608 to 0.58723, saving model to next_words.h5\n",
            "1809/1809 [==============================] - 27s 15ms/step - loss: 0.5872\n",
            "Epoch 45/70\n",
            "1809/1809 [==============================] - ETA: 0s - loss: 0.5792\n",
            "Epoch 45: loss improved from 0.58723 to 0.57923, saving model to next_words.h5\n",
            "1809/1809 [==============================] - 28s 15ms/step - loss: 0.5792\n",
            "Epoch 46/70\n",
            "1809/1809 [==============================] - ETA: 0s - loss: 0.5695\n",
            "Epoch 46: loss improved from 0.57923 to 0.56955, saving model to next_words.h5\n",
            "1809/1809 [==============================] - 28s 16ms/step - loss: 0.5695\n",
            "Epoch 47/70\n",
            "1809/1809 [==============================] - ETA: 0s - loss: 0.5646\n",
            "Epoch 47: loss improved from 0.56955 to 0.56463, saving model to next_words.h5\n",
            "1809/1809 [==============================] - 28s 15ms/step - loss: 0.5646\n",
            "Epoch 48/70\n",
            "1806/1809 [============================>.] - ETA: 0s - loss: 0.5586\n",
            "Epoch 48: loss improved from 0.56463 to 0.55852, saving model to next_words.h5\n",
            "1809/1809 [==============================] - 28s 15ms/step - loss: 0.5585\n",
            "Epoch 49/70\n",
            "1807/1809 [============================>.] - ETA: 0s - loss: 0.5547\n",
            "Epoch 49: loss improved from 0.55852 to 0.55485, saving model to next_words.h5\n",
            "1809/1809 [==============================] - 28s 15ms/step - loss: 0.5549\n",
            "Epoch 50/70\n",
            "1809/1809 [==============================] - ETA: 0s - loss: 0.5480\n",
            "Epoch 50: loss improved from 0.55485 to 0.54804, saving model to next_words.h5\n",
            "1809/1809 [==============================] - 28s 15ms/step - loss: 0.5480\n",
            "Epoch 51/70\n",
            "1809/1809 [==============================] - ETA: 0s - loss: 0.5433\n",
            "Epoch 51: loss improved from 0.54804 to 0.54330, saving model to next_words.h5\n",
            "1809/1809 [==============================] - 28s 15ms/step - loss: 0.5433\n",
            "Epoch 52/70\n",
            "1806/1809 [============================>.] - ETA: 0s - loss: 0.5361\n",
            "Epoch 52: loss improved from 0.54330 to 0.53633, saving model to next_words.h5\n",
            "1809/1809 [==============================] - 28s 15ms/step - loss: 0.5363\n",
            "Epoch 53/70\n",
            "1809/1809 [==============================] - ETA: 0s - loss: 0.5310\n",
            "Epoch 53: loss improved from 0.53633 to 0.53097, saving model to next_words.h5\n",
            "1809/1809 [==============================] - 27s 15ms/step - loss: 0.5310\n",
            "Epoch 54/70\n",
            "1807/1809 [============================>.] - ETA: 0s - loss: 0.5319\n",
            "Epoch 54: loss did not improve from 0.53097\n",
            "1809/1809 [==============================] - 27s 15ms/step - loss: 0.5319\n",
            "Epoch 55/70\n",
            "1809/1809 [==============================] - ETA: 0s - loss: 0.5253\n",
            "Epoch 55: loss improved from 0.53097 to 0.52531, saving model to next_words.h5\n",
            "1809/1809 [==============================] - 37s 20ms/step - loss: 0.5253\n",
            "Epoch 56/70\n",
            "1807/1809 [============================>.] - ETA: 0s - loss: 0.5177\n",
            "Epoch 56: loss improved from 0.52531 to 0.51779, saving model to next_words.h5\n",
            "1809/1809 [==============================] - 28s 15ms/step - loss: 0.5178\n",
            "Epoch 57/70\n",
            "1809/1809 [==============================] - ETA: 0s - loss: 0.5180\n",
            "Epoch 57: loss did not improve from 0.51779\n",
            "1809/1809 [==============================] - 27s 15ms/step - loss: 0.5180\n",
            "Epoch 58/70\n",
            "1807/1809 [============================>.] - ETA: 0s - loss: 0.5119\n",
            "Epoch 58: loss improved from 0.51779 to 0.51206, saving model to next_words.h5\n",
            "1809/1809 [==============================] - 36s 20ms/step - loss: 0.5121\n",
            "Epoch 59/70\n",
            "1808/1809 [============================>.] - ETA: 0s - loss: 0.5108\n",
            "Epoch 59: loss improved from 0.51206 to 0.51076, saving model to next_words.h5\n",
            "1809/1809 [==============================] - 28s 15ms/step - loss: 0.5108\n",
            "Epoch 60/70\n",
            "1809/1809 [==============================] - ETA: 0s - loss: 0.5059\n",
            "Epoch 60: loss improved from 0.51076 to 0.50592, saving model to next_words.h5\n",
            "1809/1809 [==============================] - 28s 15ms/step - loss: 0.5059\n",
            "Epoch 61/70\n",
            "1809/1809 [==============================] - ETA: 0s - loss: 0.5005\n",
            "Epoch 61: loss improved from 0.50592 to 0.50046, saving model to next_words.h5\n",
            "1809/1809 [==============================] - 28s 15ms/step - loss: 0.5005\n",
            "Epoch 62/70\n",
            "1807/1809 [============================>.] - ETA: 0s - loss: 0.4988\n",
            "Epoch 62: loss improved from 0.50046 to 0.49888, saving model to next_words.h5\n",
            "1809/1809 [==============================] - 32s 18ms/step - loss: 0.4989\n",
            "Epoch 63/70\n",
            "1808/1809 [============================>.] - ETA: 0s - loss: 0.4957\n",
            "Epoch 63: loss improved from 0.49888 to 0.49574, saving model to next_words.h5\n",
            "1809/1809 [==============================] - 30s 17ms/step - loss: 0.4957\n",
            "Epoch 64/70\n",
            "1808/1809 [============================>.] - ETA: 0s - loss: 0.4916\n",
            "Epoch 64: loss improved from 0.49574 to 0.49163, saving model to next_words.h5\n",
            "1809/1809 [==============================] - 28s 15ms/step - loss: 0.4916\n",
            "Epoch 65/70\n",
            "1808/1809 [============================>.] - ETA: 0s - loss: 0.4914\n",
            "Epoch 65: loss improved from 0.49163 to 0.49133, saving model to next_words.h5\n",
            "1809/1809 [==============================] - 32s 18ms/step - loss: 0.4913\n",
            "Epoch 66/70\n",
            "1808/1809 [============================>.] - ETA: 0s - loss: 0.4897\n",
            "Epoch 66: loss improved from 0.49133 to 0.48975, saving model to next_words.h5\n",
            "1809/1809 [==============================] - 32s 18ms/step - loss: 0.4897\n",
            "Epoch 67/70\n",
            "1807/1809 [============================>.] - ETA: 0s - loss: 0.4835\n",
            "Epoch 67: loss improved from 0.48975 to 0.48344, saving model to next_words.h5\n",
            "1809/1809 [==============================] - 28s 15ms/step - loss: 0.4834\n",
            "Epoch 68/70\n",
            "1807/1809 [============================>.] - ETA: 0s - loss: 0.4800\n",
            "Epoch 68: loss improved from 0.48344 to 0.48017, saving model to next_words.h5\n",
            "1809/1809 [==============================] - 28s 16ms/step - loss: 0.4802\n",
            "Epoch 69/70\n",
            "1808/1809 [============================>.] - ETA: 0s - loss: 0.4799\n",
            "Epoch 69: loss improved from 0.48017 to 0.47995, saving model to next_words.h5\n",
            "1809/1809 [==============================] - 32s 18ms/step - loss: 0.4800\n",
            "Epoch 70/70\n",
            "1807/1809 [============================>.] - ETA: 0s - loss: 0.4798\n",
            "Epoch 70: loss improved from 0.47995 to 0.47993, saving model to next_words.h5\n",
            "1809/1809 [==============================] - 28s 16ms/step - loss: 0.4799\n"
          ]
        },
        {
          "output_type": "execute_result",
          "data": {
            "text/plain": [
              "<keras.callbacks.History at 0x7f7a0e35c820>"
            ]
          },
          "metadata": {},
          "execution_count": 19
        }
      ]
    },
    {
      "cell_type": "code",
      "source": [
        "from tensorflow.keras.models import load_model\n",
        "import numpy as np\n",
        "import pickle\n",
        "\n",
        "# Load the model and tokenizer\n",
        "model = load_model('next_words.h5')\n",
        "tokenizer = pickle.load(open('token.pkl', 'rb'))\n",
        "\n",
        "def Predict_Next_Words(model, tokenizer, text):\n",
        "    sequence = tokenizer.texts_to_sequences([text])\n",
        "    sequence = np.array(sequence)\n",
        "    preds = model.predict(sequence)[0]\n",
        "    top_indices = np.argsort(preds)[-5:][::-1]  # Get the indices of the top 5 words\n",
        "    top_words = [tokenizer.index_word[index] for index in top_indices]\n",
        "\n",
        "    for word in top_words:\n",
        "        predicted_text = text + [word]  # Concatenate the word with the existing list\n",
        "        print(\" \".join(predicted_text))  # Convert the list to a string and print\n",
        "\n",
        "    return top_words"
      ],
      "metadata": {
        "id": "_7eatHi1W2dE"
      },
      "execution_count": 34,
      "outputs": []
    },
    {
      "cell_type": "code",
      "source": [
        "while(True):\n",
        "  text = input(\"Enter your line: \")\n",
        "\n",
        "  if text == \"0\":\n",
        "      print(\"Execution completed.....\")\n",
        "      break\n",
        "\n",
        "  else:\n",
        "      try:\n",
        "          text = text.split(\" \")\n",
        "          text = text[-3:]\n",
        "          print(text)\n",
        "\n",
        "          Predict_Next_Words(model, tokenizer, text)\n",
        "\n",
        "      except Exception as e:\n",
        "        print(\"Error occurred: \",e)\n",
        "        continue"
      ],
      "metadata": {
        "colab": {
          "base_uri": "https://localhost:8080/"
        },
        "id": "07-f3Ia1W2ar",
        "outputId": "d4565ef6-290e-4e63-8ba7-50f3c6ae32c8"
      },
      "execution_count": 35,
      "outputs": [
        {
          "output_type": "stream",
          "name": "stdout",
          "text": [
            "Enter your line: can you come\n",
            "['can', 'you', 'come']\n",
            "1/1 [==============================] - 1s 602ms/step\n",
            "can you come any\n",
            "can you come you\n",
            "can you come right\n",
            "can you come it\n",
            "can you come to\n",
            "Enter your line: where are you\n",
            "['where', 'are', 'you']\n",
            "1/1 [==============================] - 0s 19ms/step\n",
            "where are you to\n",
            "where are you as\n",
            "where are you heaving\n",
            "where are you that\n",
            "where are you about\n",
            "Enter your line: what is your\n",
            "['what', 'is', 'your']\n",
            "1/1 [==============================] - 0s 20ms/step\n",
            "what is your idea\n",
            "what is your bad\n",
            "what is your matter\n",
            "what is your country\n",
            "what is your best\n",
            "Enter your line: what is your best\n",
            "['is', 'your', 'best']\n",
            "1/1 [==============================] - 0s 18ms/step\n",
            "is your best what\n",
            "is your best way\n",
            "is your best boy\n",
            "is your best holt—for\n",
            "is your best work\n",
            "Enter your line: what is your best way \n",
            "['best', 'way', '']\n",
            "1/1 [==============================] - 1s 636ms/step\n",
            "best way  but\n",
            "best way  i\n",
            "best way  to\n",
            "best way  and\n",
            "best way  that\n",
            "Enter your line: 0\n",
            "Execution completed.....\n"
          ]
        }
      ]
    }
  ]
}